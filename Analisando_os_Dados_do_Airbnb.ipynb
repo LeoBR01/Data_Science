{
  "nbformat": 4,
  "nbformat_minor": 0,
  "metadata": {
    "colab": {
      "name": "[Template]_Analisando_os_Dados_do_Airbnb.ipynb",
      "provenance": [],
      "collapsed_sections": [],
      "toc_visible": true,
      "include_colab_link": true
    },
    "kernelspec": {
      "name": "python3",
      "display_name": "Python 3"
    }
  },
  "cells": [
    {
      "cell_type": "markdown",
      "metadata": {
        "id": "view-in-github",
        "colab_type": "text"
      },
      "source": [
        "<a href=\"https://colab.research.google.com/github/LeoBR01/Data_Science/blob/main/Analisando_os_Dados_do_Airbnb.ipynb\" target=\"_parent\"><img src=\"https://colab.research.google.com/assets/colab-badge.svg\" alt=\"Open In Colab\"/></a>"
      ]
    },
    {
      "cell_type": "markdown",
      "metadata": {
        "id": "kLI0gJtzDGuQ"
      },
      "source": [
        "<img alt=\"Colaboratory logo\" width=\"15%\" src=\"https://raw.githubusercontent.com/carlosfab/escola-data-science/master/img/novo_logo_bg_claro.png\">\n",
        "\n",
        "#### **Data Science na Prática 2.0**\n",
        "*by [sigmoidal.ai](https://sigmoidal.ai)*\n",
        "\n",
        "#### **Aluno: Leonardo Brasil de Almeida**\n",
        "---\n",
        "\n",
        "# Análise dos Dados do Airbnb - *Sua Cidade*\n",
        "\n",
        "O [Airbnb](https://www.airbnb.com.br/) já é considerado como sendo a **maior empresa hoteleira da atualidade**. Ah, o detalhe é que ele **não possui nenhum hotel**!\n",
        "\n",
        "Conectando pessoas que querem viajar (e se hospedar) com anfitriões que querem alugar seus imóveis de maneira prática, o Airbnb fornece uma plataforma inovadora para tornar essa hospedagem alternativa.\n",
        "\n",
        "No final de 2018, a Startup fundada 10 anos atrás, já havia **hospedado mais de 300 milhões** de pessoas ao redor de todo o mundo, desafiando as redes hoteleiras tradicionais.\n",
        "\n",
        "Uma das iniciativas do Airbnb é disponibilizar dados do site, para algumas das principais cidades do mundo. Por meio do portal [Inside Airbnb](http://insideairbnb.com/get-the-data.html), é possível baixar uma grande quantidade de dados para desenvolver projetos e soluções de *Data Science*.\n",
        "\n",
        "<center><img alt=\"Analisando Airbnb\" width=\"10%\" src=\"https://www.area360.com.au/wp-content/uploads/2017/09/airbnb-logo.jpg\"></center>\n",
        "\n",
        "**Neste *notebook*, iremos analisar os dados referentes à cidade ________, e ver quais insights podem ser extraídos a partir de dados brutos.**"
      ]
    },
    {
      "cell_type": "markdown",
      "metadata": {
        "id": "0zxQHhIUDF_2"
      },
      "source": [
        "## Obtenção dos Dados\n",
        "Os dados foram coletados do portal [Inside Airbnb](http://insideairbnb.com/get-the-data.html) para análise da cidade de Tokyo no Japão."
      ]
    },
    {
      "cell_type": "code",
      "metadata": {
        "id": "Vhp2wMPgJ6zX"
      },
      "source": [
        "# importar os pacotes necessarios\n",
        "import pandas as pd\n",
        "import matplotlib.pyplot as plt\n",
        "import seaborn as sns\n",
        "\n",
        "%matplotlib inline"
      ],
      "execution_count": 13,
      "outputs": []
    },
    {
      "cell_type": "code",
      "metadata": {
        "id": "tUmoAT8DLQ5T"
      },
      "source": [
        "# importar o arquivo listings.csv para um DataFrame\n",
        "df = pd.read_csv('http://data.insideairbnb.com/japan/kant%C5%8D/tokyo/2021-03-27/visualisations/listings.csv')"
      ],
      "execution_count": 14,
      "outputs": []
    },
    {
      "cell_type": "markdown",
      "metadata": {
        "id": "qb5By2nIMS6m"
      },
      "source": [
        "## Análise dos Dados\n"
      ]
    },
    {
      "cell_type": "markdown",
      "metadata": {
        "id": "RYgvuebKNg8-"
      },
      "source": [
        "**Dicionário das variáveis**\n",
        "\n",
        "* `id` - número de id gerado para identificar o imóvel\n",
        "* `name` - nome da propriedade anunciada\n",
        "* `host_id` - número de id do proprietário (anfitrião) da propriedade\n",
        "* `host_name` - Nome do anfitrião\n",
        "* `neighbourhood_group` - esta coluna não contém nenhum valor válido\n",
        "* `neighbourhood` - nome do bairro\n",
        "* `latitude` - coordenada da latitude da propriedade\n",
        "* `longitude` - coordenada da longitude da propriedade\n",
        "* `room_type` - informa o tipo de quarto que é oferecido\n",
        "* `price` - preço para alugar o imóvel\n",
        "* `minimum_nights` - quantidade mínima de noites para reservar\n",
        "* `number_of_reviews` - número de reviews que a propriedade possui\n",
        "* `last_review` - data do último review\n",
        "* `reviews_per_month` - quantidade de reviews por mês\n",
        "* `calculated_host_listings_count` - quantidade de imóveis do mesmo anfitrião\n",
        "* `availability_365` - número de dias de disponibilidade dentro de 365 dias\n",
        "\n",
        "Antes de iniciar qualquer análise, vamos verificar a cara do nosso *dataset*, analisando as 5 primeiras entradas."
      ]
    },
    {
      "cell_type": "code",
      "metadata": {
        "id": "2iS_dae7YQtO",
        "colab": {
          "base_uri": "https://localhost:8080/",
          "height": 479
        },
        "outputId": "be5579b8-8bad-413f-95df-248474e75927"
      },
      "source": [
        "# mostrar as 5 primeiras entradas\n",
        "df.head()"
      ],
      "execution_count": 15,
      "outputs": [
        {
          "output_type": "execute_result",
          "data": {
            "text/html": [
              "<div>\n",
              "<style scoped>\n",
              "    .dataframe tbody tr th:only-of-type {\n",
              "        vertical-align: middle;\n",
              "    }\n",
              "\n",
              "    .dataframe tbody tr th {\n",
              "        vertical-align: top;\n",
              "    }\n",
              "\n",
              "    .dataframe thead th {\n",
              "        text-align: right;\n",
              "    }\n",
              "</style>\n",
              "<table border=\"1\" class=\"dataframe\">\n",
              "  <thead>\n",
              "    <tr style=\"text-align: right;\">\n",
              "      <th></th>\n",
              "      <th>id</th>\n",
              "      <th>name</th>\n",
              "      <th>host_id</th>\n",
              "      <th>host_name</th>\n",
              "      <th>neighbourhood_group</th>\n",
              "      <th>neighbourhood</th>\n",
              "      <th>latitude</th>\n",
              "      <th>longitude</th>\n",
              "      <th>room_type</th>\n",
              "      <th>price</th>\n",
              "      <th>minimum_nights</th>\n",
              "      <th>number_of_reviews</th>\n",
              "      <th>last_review</th>\n",
              "      <th>reviews_per_month</th>\n",
              "      <th>calculated_host_listings_count</th>\n",
              "      <th>availability_365</th>\n",
              "    </tr>\n",
              "  </thead>\n",
              "  <tbody>\n",
              "    <tr>\n",
              "      <th>0</th>\n",
              "      <td>197677</td>\n",
              "      <td>Oshiage Holiday Apartment</td>\n",
              "      <td>964081</td>\n",
              "      <td>Yoshimi &amp; Marek</td>\n",
              "      <td>NaN</td>\n",
              "      <td>Sumida Ku</td>\n",
              "      <td>35.71721</td>\n",
              "      <td>139.82596</td>\n",
              "      <td>Entire home/apt</td>\n",
              "      <td>11000</td>\n",
              "      <td>3</td>\n",
              "      <td>165</td>\n",
              "      <td>2020-03-04</td>\n",
              "      <td>1.42</td>\n",
              "      <td>1</td>\n",
              "      <td>363</td>\n",
              "    </tr>\n",
              "    <tr>\n",
              "      <th>1</th>\n",
              "      <td>776070</td>\n",
              "      <td>Kero-kero house room 1</td>\n",
              "      <td>801494</td>\n",
              "      <td>Kei</td>\n",
              "      <td>NaN</td>\n",
              "      <td>Kita Ku</td>\n",
              "      <td>35.73844</td>\n",
              "      <td>139.76917</td>\n",
              "      <td>Private room</td>\n",
              "      <td>7677</td>\n",
              "      <td>3</td>\n",
              "      <td>228</td>\n",
              "      <td>2020-01-18</td>\n",
              "      <td>2.25</td>\n",
              "      <td>1</td>\n",
              "      <td>148</td>\n",
              "    </tr>\n",
              "    <tr>\n",
              "      <th>2</th>\n",
              "      <td>899003</td>\n",
              "      <td>Classy room @Shinjuku, Takadanoba</td>\n",
              "      <td>4799233</td>\n",
              "      <td>Yu</td>\n",
              "      <td>NaN</td>\n",
              "      <td>Shinjuku Ku</td>\n",
              "      <td>35.71019</td>\n",
              "      <td>139.69755</td>\n",
              "      <td>Entire home/apt</td>\n",
              "      <td>5200</td>\n",
              "      <td>30</td>\n",
              "      <td>93</td>\n",
              "      <td>2019-11-25</td>\n",
              "      <td>0.94</td>\n",
              "      <td>2</td>\n",
              "      <td>0</td>\n",
              "    </tr>\n",
              "    <tr>\n",
              "      <th>3</th>\n",
              "      <td>1016831</td>\n",
              "      <td>WOMAN ONLY LICENSED ! Cosy &amp; Cat behnd Shibuya</td>\n",
              "      <td>5596383</td>\n",
              "      <td>Wakana</td>\n",
              "      <td>NaN</td>\n",
              "      <td>Setagaya Ku</td>\n",
              "      <td>35.65800</td>\n",
              "      <td>139.67134</td>\n",
              "      <td>Private room</td>\n",
              "      <td>4000</td>\n",
              "      <td>1</td>\n",
              "      <td>211</td>\n",
              "      <td>2020-03-16</td>\n",
              "      <td>2.17</td>\n",
              "      <td>1</td>\n",
              "      <td>0</td>\n",
              "    </tr>\n",
              "    <tr>\n",
              "      <th>4</th>\n",
              "      <td>1033276</td>\n",
              "      <td>private room @Senju area</td>\n",
              "      <td>5686404</td>\n",
              "      <td>NaN</td>\n",
              "      <td>NaN</td>\n",
              "      <td>Adachi Ku</td>\n",
              "      <td>35.74437</td>\n",
              "      <td>139.79739</td>\n",
              "      <td>Private room</td>\n",
              "      <td>30000</td>\n",
              "      <td>1</td>\n",
              "      <td>72</td>\n",
              "      <td>2018-06-17</td>\n",
              "      <td>0.75</td>\n",
              "      <td>2</td>\n",
              "      <td>271</td>\n",
              "    </tr>\n",
              "  </tbody>\n",
              "</table>\n",
              "</div>"
            ],
            "text/plain": [
              "        id  ... availability_365\n",
              "0   197677  ...              363\n",
              "1   776070  ...              148\n",
              "2   899003  ...                0\n",
              "3  1016831  ...                0\n",
              "4  1033276  ...              271\n",
              "\n",
              "[5 rows x 16 columns]"
            ]
          },
          "metadata": {
            "tags": []
          },
          "execution_count": 15
        }
      ]
    },
    {
      "cell_type": "markdown",
      "metadata": {
        "id": "6-B_qtEaYEd-"
      },
      "source": [
        "### **Q1. Quantos atributos (variáveis) e quantas entradas o nosso conjunto de dados possui? Quais os tipos das variáveis?**"
      ]
    },
    {
      "cell_type": "code",
      "metadata": {
        "id": "TFRK0tniLV-G",
        "colab": {
          "base_uri": "https://localhost:8080/",
          "height": 357
        },
        "outputId": "c805264b-cb30-45ef-e50a-f83dd0590e64"
      },
      "source": [
        "# identificar o volume de dados do DataFrame\n",
        "print(\"Entradas:\\t {}\".format(df.shape[0]))\n",
        "print(\"Variáveis:\\t {} \\n\".format(df.shape[1]))\n",
        "\n",
        "# verificar as 5 primeiras entradas do dataset\n",
        "display(df.dtypes)\n"
      ],
      "execution_count": 22,
      "outputs": [
        {
          "output_type": "stream",
          "text": [
            "Entradas:\t 11197\n",
            "Variáveis:\t 16 \n",
            "\n"
          ],
          "name": "stdout"
        },
        {
          "output_type": "display_data",
          "data": {
            "text/plain": [
              "id                                  int64\n",
              "name                               object\n",
              "host_id                             int64\n",
              "host_name                          object\n",
              "neighbourhood_group               float64\n",
              "neighbourhood                      object\n",
              "latitude                          float64\n",
              "longitude                         float64\n",
              "room_type                          object\n",
              "price                               int64\n",
              "minimum_nights                      int64\n",
              "number_of_reviews                   int64\n",
              "last_review                        object\n",
              "reviews_per_month                 float64\n",
              "calculated_host_listings_count      int64\n",
              "availability_365                    int64\n",
              "dtype: object"
            ]
          },
          "metadata": {
            "tags": []
          }
        }
      ]
    },
    {
      "cell_type": "markdown",
      "metadata": {
        "id": "yz1urSUGW9iE"
      },
      "source": [
        "### **Q2. Qual a porcentagem de valores ausentes no *dataset*?**\n",
        "\n",
        "##### Ao analisar a cidade de tokyo e seus dados faltantes, podemos notar que existem certas colunas que são totalmente descartáveis na hora de trabalharmos com os dados, visto que a quantidade de dados faltantes é muito grande ou praticamente **100%** dos dados"
      ]
    },
    {
      "cell_type": "code",
      "metadata": {
        "id": "plk2FjbCXOqP",
        "colab": {
          "base_uri": "https://localhost:8080/"
        },
        "outputId": "8f19e757-5928-4bca-b72d-829bc56b7461"
      },
      "source": [
        "# ordenar em ordem decrescente as variáveis por seus valores ausentes\n",
        "(df.isnull().sum() / df.shape[0]).sort_values(ascending=False)"
      ],
      "execution_count": 33,
      "outputs": [
        {
          "output_type": "execute_result",
          "data": {
            "text/plain": [
              "neighbourhood_group               1.000000\n",
              "reviews_per_month                 0.183621\n",
              "last_review                       0.183621\n",
              "host_name                         0.027239\n",
              "availability_365                  0.000000\n",
              "calculated_host_listings_count    0.000000\n",
              "number_of_reviews                 0.000000\n",
              "minimum_nights                    0.000000\n",
              "price                             0.000000\n",
              "room_type                         0.000000\n",
              "longitude                         0.000000\n",
              "latitude                          0.000000\n",
              "neighbourhood                     0.000000\n",
              "host_id                           0.000000\n",
              "name                              0.000000\n",
              "id                                0.000000\n",
              "dtype: float64"
            ]
          },
          "metadata": {
            "tags": []
          },
          "execution_count": 33
        }
      ]
    },
    {
      "cell_type": "markdown",
      "metadata": {
        "id": "iHXvvHIxaoNc"
      },
      "source": [
        "### **Q3. Qual o tipo de distribuição das variáveis?** \n",
        "\n",
        "##### Nessa distribuição, encontramos algumas incoerencias claras em que **outliers** implicam numa projeção dos nosso histogramas de maneira incorreta. Levando muitas vezes a valores que não condizem com a realidade. Nesse caso, devemos aprender a limpar esses dados que induzem valores incorretos."
      ]
    },
    {
      "cell_type": "code",
      "metadata": {
        "id": "q2wWSfeRbmBo",
        "colab": {
          "base_uri": "https://localhost:8080/",
          "height": 607
        },
        "outputId": "f977b52e-db98-44b4-cf46-fdafd158d2b3"
      },
      "source": [
        "# plotar o histograma das variáveis numéricas\n",
        "df.hist(bins=15,figsize=(15,10));\n"
      ],
      "execution_count": 41,
      "outputs": [
        {
          "output_type": "display_data",
          "data": {
            "image/png": "[encoded data removed]",
            "text/plain": [
              "<Figure size 1080x720 with 12 Axes>"
            ]
          },
          "metadata": {
            "tags": [],
            "needs_background": "light"
          }
        }
      ]
    },
    {
      "cell_type": "markdown",
      "metadata": {
        "id": "7x4aw1j5wNmn"
      },
      "source": [
        "### **Q4. Qual a média dos preços de aluguel?**"
      ]
    },
    {
      "cell_type": "code",
      "metadata": {
        "id": "ff-8gUahLk-C",
        "colab": {
          "base_uri": "https://localhost:8080/",
          "height": 297
        },
        "outputId": "efcba952-f02e-480b-f3a8-0530aaa3ee10"
      },
      "source": [
        "# ver a média da coluna `price`\n",
        "df[['price','minimum_nights']].describe()"
      ],
      "execution_count": 51,
      "outputs": [
        {
          "output_type": "execute_result",
          "data": {
            "text/html": [
              "<div>\n",
              "<style scoped>\n",
              "    .dataframe tbody tr th:only-of-type {\n",
              "        vertical-align: middle;\n",
              "    }\n",
              "\n",
              "    .dataframe tbody tr th {\n",
              "        vertical-align: top;\n",
              "    }\n",
              "\n",
              "    .dataframe thead th {\n",
              "        text-align: right;\n",
              "    }\n",
              "</style>\n",
              "<table border=\"1\" class=\"dataframe\">\n",
              "  <thead>\n",
              "    <tr style=\"text-align: right;\">\n",
              "      <th></th>\n",
              "      <th>price</th>\n",
              "      <th>minimum_nights</th>\n",
              "    </tr>\n",
              "  </thead>\n",
              "  <tbody>\n",
              "    <tr>\n",
              "      <th>count</th>\n",
              "      <td>11197.000000</td>\n",
              "      <td>11197.000000</td>\n",
              "    </tr>\n",
              "    <tr>\n",
              "      <th>mean</th>\n",
              "      <td>12843.618826</td>\n",
              "      <td>3.739841</td>\n",
              "    </tr>\n",
              "    <tr>\n",
              "      <th>std</th>\n",
              "      <td>32150.627375</td>\n",
              "      <td>18.345848</td>\n",
              "    </tr>\n",
              "    <tr>\n",
              "      <th>min</th>\n",
              "      <td>0.000000</td>\n",
              "      <td>1.000000</td>\n",
              "    </tr>\n",
              "    <tr>\n",
              "      <th>25%</th>\n",
              "      <td>4500.000000</td>\n",
              "      <td>1.000000</td>\n",
              "    </tr>\n",
              "    <tr>\n",
              "      <th>50%</th>\n",
              "      <td>7800.000000</td>\n",
              "      <td>1.000000</td>\n",
              "    </tr>\n",
              "    <tr>\n",
              "      <th>75%</th>\n",
              "      <td>13000.000000</td>\n",
              "      <td>2.000000</td>\n",
              "    </tr>\n",
              "    <tr>\n",
              "      <th>max</th>\n",
              "      <td>1000000.000000</td>\n",
              "      <td>500.000000</td>\n",
              "    </tr>\n",
              "  </tbody>\n",
              "</table>\n",
              "</div>"
            ],
            "text/plain": [
              "                price  minimum_nights\n",
              "count    11197.000000    11197.000000\n",
              "mean     12843.618826        3.739841\n",
              "std      32150.627375       18.345848\n",
              "min          0.000000        1.000000\n",
              "25%       4500.000000        1.000000\n",
              "50%       7800.000000        1.000000\n",
              "75%      13000.000000        2.000000\n",
              "max    1000000.000000      500.000000"
            ]
          },
          "metadata": {
            "tags": []
          },
          "execution_count": 51
        }
      ]
    },
    {
      "cell_type": "markdown",
      "metadata": {
        "id": "5wOyVzMl21J-"
      },
      "source": [
        "### **Q4.1. Grafico de box-plot?**\n",
        "#### De um exemplo de um coluna\n",
        "\n",
        "##### O grafico Box-Plot nos auxilia com uma visão ampla de como indentificar outliers e como trata-los. Fica evidente que postos discrepantes irão danificar a projeção dos nossos dados, como vimos nos histogramas acima."
      ]
    },
    {
      "cell_type": "code",
      "metadata": {
        "colab": {
          "base_uri": "https://localhost:8080/",
          "height": 371
        },
        "id": "XSmROWn726_3",
        "outputId": "d04f732c-d551-49b8-c501-de5f6957351e"
      },
      "source": [
        "# minimum_nights\n",
        "df.minimum_nights.plot(kind='box',vert = False, figsize=(20,5))\n",
        "plt.show()\n",
        "\n",
        "print('Minimum_nights: Valores acima de 30:')\n",
        "print(\"{} entradas\".format(len(df[df.minimum_nights > 30])))\n",
        "print(\"{:.4f}%\".format((len(df[df.minimum_nights > 30])/ df.shape[0])*100))"
      ],
      "execution_count": 61,
      "outputs": [
        {
          "output_type": "display_data",
          "data": {
            "image/png": "[encoded data removed]",
            "text/plain": [
              "<Figure size 1440x360 with 1 Axes>"
            ]
          },
          "metadata": {
            "tags": [],
            "needs_background": "light"
          }
        },
        {
          "output_type": "stream",
          "text": [
            "Minimum_nights: Valores acima de 30:\n",
            "64 entradas\n",
            "0.5716%\n"
          ],
          "name": "stdout"
        }
      ]
    },
    {
      "cell_type": "markdown",
      "metadata": {
        "id": "KTLYdPCJ4q5q"
      },
      "source": [
        "## Histogramas sem outliers ##\n",
        "\n",
        "###Limpando os arquivos e plotando###"
      ]
    },
    {
      "cell_type": "code",
      "metadata": {
        "colab": {
          "base_uri": "https://localhost:8080/",
          "height": 607
        },
        "id": "ASeKw4ez40Tt",
        "outputId": "641abfe8-ca9c-444d-9adc-f4a1a6b0a833"
      },
      "source": [
        "# remover os *outliers* em um novo DataFrame\n",
        "df_clean = df.copy()\n",
        "df_clean.drop(df_clean[df_clean.price > 1500].index, axis=0, inplace=True)\n",
        "df_clean.drop(df_clean[df_clean.minimum_nights > 30].index, axis=0, inplace=True)\n",
        "\n",
        "# remover `neighbourhood_group`, pois está vazio\n",
        "df_clean.drop('neighbourhood_group', axis=1, inplace=True)\n",
        "\n",
        "# plotar o histograma para as variáveis numéricas\n",
        "df_clean.hist(bins=15, figsize=(15,10));"
      ],
      "execution_count": 62,
      "outputs": [
        {
          "output_type": "display_data",
          "data": {
            "image/png": "[encoded data removed]",
            "text/plain": [
              "<Figure size 1080x720 with 12 Axes>"
            ]
          },
          "metadata": {
            "tags": [],
            "needs_background": "light"
          }
        }
      ]
    },
    {
      "cell_type": "markdown",
      "metadata": {
        "id": "IXn2oIo5qx-w"
      },
      "source": [
        "### **Q4. Qual a correlação existente entre as variáveis**"
      ]
    },
    {
      "cell_type": "code",
      "metadata": {
        "id": "x2ayzBajqxyd",
        "colab": {
          "base_uri": "https://localhost:8080/",
          "height": 235
        },
        "outputId": "59d26410-7e84-41f0-80a4-f68b00164806"
      },
      "source": [
        "# criar uma matriz de correlação\n",
        "corr = df_clean[['price','minimum_nights','number_of_reviews','reviews_per_month','calculated_host_listings_count','availability_365']].corr()\n",
        "display(corr)\n",
        "# mostrar a matriz de correlação\n"
      ],
      "execution_count": 67,
      "outputs": [
        {
          "output_type": "display_data",
          "data": {
            "text/html": [
              "<div>\n",
              "<style scoped>\n",
              "    .dataframe tbody tr th:only-of-type {\n",
              "        vertical-align: middle;\n",
              "    }\n",
              "\n",
              "    .dataframe tbody tr th {\n",
              "        vertical-align: top;\n",
              "    }\n",
              "\n",
              "    .dataframe thead th {\n",
              "        text-align: right;\n",
              "    }\n",
              "</style>\n",
              "<table border=\"1\" class=\"dataframe\">\n",
              "  <thead>\n",
              "    <tr style=\"text-align: right;\">\n",
              "      <th></th>\n",
              "      <th>price</th>\n",
              "      <th>minimum_nights</th>\n",
              "      <th>number_of_reviews</th>\n",
              "      <th>reviews_per_month</th>\n",
              "      <th>calculated_host_listings_count</th>\n",
              "      <th>availability_365</th>\n",
              "    </tr>\n",
              "  </thead>\n",
              "  <tbody>\n",
              "    <tr>\n",
              "      <th>price</th>\n",
              "      <td>1.000000</td>\n",
              "      <td>-0.209786</td>\n",
              "      <td>0.055108</td>\n",
              "      <td>0.184517</td>\n",
              "      <td>-0.096560</td>\n",
              "      <td>0.386571</td>\n",
              "    </tr>\n",
              "    <tr>\n",
              "      <th>minimum_nights</th>\n",
              "      <td>-0.209786</td>\n",
              "      <td>1.000000</td>\n",
              "      <td>-0.218014</td>\n",
              "      <td>-0.326713</td>\n",
              "      <td>0.025073</td>\n",
              "      <td>-0.162200</td>\n",
              "    </tr>\n",
              "    <tr>\n",
              "      <th>number_of_reviews</th>\n",
              "      <td>0.055108</td>\n",
              "      <td>-0.218014</td>\n",
              "      <td>1.000000</td>\n",
              "      <td>0.823484</td>\n",
              "      <td>-0.306690</td>\n",
              "      <td>-0.297845</td>\n",
              "    </tr>\n",
              "    <tr>\n",
              "      <th>reviews_per_month</th>\n",
              "      <td>0.184517</td>\n",
              "      <td>-0.326713</td>\n",
              "      <td>0.823484</td>\n",
              "      <td>1.000000</td>\n",
              "      <td>-0.164623</td>\n",
              "      <td>-0.254062</td>\n",
              "    </tr>\n",
              "    <tr>\n",
              "      <th>calculated_host_listings_count</th>\n",
              "      <td>-0.096560</td>\n",
              "      <td>0.025073</td>\n",
              "      <td>-0.306690</td>\n",
              "      <td>-0.164623</td>\n",
              "      <td>1.000000</td>\n",
              "      <td>-0.308367</td>\n",
              "    </tr>\n",
              "    <tr>\n",
              "      <th>availability_365</th>\n",
              "      <td>0.386571</td>\n",
              "      <td>-0.162200</td>\n",
              "      <td>-0.297845</td>\n",
              "      <td>-0.254062</td>\n",
              "      <td>-0.308367</td>\n",
              "      <td>1.000000</td>\n",
              "    </tr>\n",
              "  </tbody>\n",
              "</table>\n",
              "</div>"
            ],
            "text/plain": [
              "                                   price  ...  availability_365\n",
              "price                           1.000000  ...          0.386571\n",
              "minimum_nights                 -0.209786  ...         -0.162200\n",
              "number_of_reviews               0.055108  ...         -0.297845\n",
              "reviews_per_month               0.184517  ...         -0.254062\n",
              "calculated_host_listings_count -0.096560  ...         -0.308367\n",
              "availability_365                0.386571  ...          1.000000\n",
              "\n",
              "[6 rows x 6 columns]"
            ]
          },
          "metadata": {
            "tags": []
          }
        }
      ]
    },
    {
      "cell_type": "code",
      "metadata": {
        "id": "91UujDr6ueqE",
        "colab": {
          "base_uri": "https://localhost:8080/",
          "height": 411
        },
        "outputId": "97fb4373-32da-4a82-8d17-427b4895a003"
      },
      "source": [
        "# plotar um heatmap a partir das correlações\n",
        "sns.heatmap(corr,cmap='coolwarm',fmt='.2f', square=True, linecolor='white', annot=True);"
      ],
      "execution_count": 69,
      "outputs": [
        {
          "output_type": "display_data",
          "data": {
            "image/png": "[encoded data removed]",
            "text/plain": [
              "<Figure size 432x288 with 2 Axes>"
            ]
          },
          "metadata": {
            "tags": [],
            "needs_background": "light"
          }
        }
      ]
    },
    {
      "cell_type": "markdown",
      "metadata": {
        "id": "7b6RMWpuHKN-"
      },
      "source": [
        "### **Q5. Qual o tipo de imóvel mais alugado no Airbnb?**\n",
        "\n",
        "A coluna da variável `room_type` indica o tipo de locação que está anunciada no Airbnb. Se você já alugou no site, sabe que existem opções de apartamentos/casas inteiras, apenas o aluguel de um quarto ou mesmo dividir o quarto com outras pessoas.\n",
        "\n",
        "Vamos contar a quantidade de ocorrências de cada tipo de aluguel, usando o método `value_counts()`."
      ]
    },
    {
      "cell_type": "code",
      "metadata": {
        "id": "ueLPNWvPHgfB",
        "colab": {
          "base_uri": "https://localhost:8080/"
        },
        "outputId": "4314eca4-b47f-4c59-94ea-998b7d73a9d2"
      },
      "source": [
        "# mostrar a quantidade de cada tipo de imóvel disponível\n",
        "df_clean.room_type.value_counts()\n"
      ],
      "execution_count": 76,
      "outputs": [
        {
          "output_type": "execute_result",
          "data": {
            "text/plain": [
              "Private room       61\n",
              "Shared room        57\n",
              "Hotel room          2\n",
              "Entire home/apt     1\n",
              "Name: room_type, dtype: int64"
            ]
          },
          "metadata": {
            "tags": []
          },
          "execution_count": 76
        }
      ]
    },
    {
      "cell_type": "code",
      "metadata": {
        "id": "EvwoO-XAHhIm",
        "colab": {
          "base_uri": "https://localhost:8080/"
        },
        "outputId": "2b1d720f-d761-4019-e876-c5cadea34abe"
      },
      "source": [
        "# mostrar a porcentagem de cada tipo de imóvel disponível\n",
        "df_clean.room_type.value_counts() / df_clean.shape[0]"
      ],
      "execution_count": 77,
      "outputs": [
        {
          "output_type": "execute_result",
          "data": {
            "text/plain": [
              "Private room       0.504132\n",
              "Shared room        0.471074\n",
              "Hotel room         0.016529\n",
              "Entire home/apt    0.008264\n",
              "Name: room_type, dtype: float64"
            ]
          },
          "metadata": {
            "tags": []
          },
          "execution_count": 77
        }
      ]
    },
    {
      "cell_type": "markdown",
      "metadata": {
        "id": "MFa5NbnLJMcd"
      },
      "source": [
        "### **Q6. Qual a localidade mais cara do dataset?**\n",
        "\n"
      ]
    },
    {
      "cell_type": "code",
      "metadata": {
        "id": "MD_xa143JZpi",
        "colab": {
          "base_uri": "https://localhost:8080/"
        },
        "outputId": "56d79fbf-b07d-48cc-8ef2-bb6670400381"
      },
      "source": [
        "# ver preços por bairros, na média\n",
        "df_clean.groupby(['neighbourhood']).price.mean().sort_values(ascending=False)[:10]\n"
      ],
      "execution_count": 97,
      "outputs": [
        {
          "output_type": "execute_result",
          "data": {
            "text/plain": [
              "neighbourhood\n",
              "Kokubunji Shi    1500.000000\n",
              "Taito Ku         1473.250000\n",
              "Chiyoda Ku       1459.000000\n",
              "Arakawa Ku       1389.800000\n",
              "Hino Shi         1371.000000\n",
              "Toshima Ku       1319.400000\n",
              "Edogawa Ku       1316.500000\n",
              "Nerima Ku        1271.428571\n",
              "Chuo Ku          1263.142857\n",
              "Sumida Ku        1259.613636\n",
              "Name: price, dtype: float64"
            ]
          },
          "metadata": {
            "tags": []
          },
          "execution_count": 97
        }
      ]
    },
    {
      "cell_type": "markdown",
      "metadata": {
        "id": "2RDL_Nz2-06m"
      },
      "source": [
        "#### A princípio numa primeira análise, os imoveis na região de Kokubunji Shi, seriam os mais caros de Tokyo. Entretanto, devemos analisar a quantidade de entradas que temos em cada região para saber se nossa média está compativel com as demais localidades ou temos pontos isolados.\n",
        "\n",
        "#### Avaliar numeros sem comparar com outros é um grande erro de análise, numeros soltos não são parametros de nada, quando observados de 1 ponto de vista."
      ]
    },
    {
      "cell_type": "code",
      "metadata": {
        "colab": {
          "base_uri": "https://localhost:8080/"
        },
        "id": "Jnrc3NTX8pUE",
        "outputId": "3d48fd83-5c19-4e2e-f214-a92f34829386"
      },
      "source": [
        "#quantidade de casas naquela dada regiao\n",
        "df_clean['neighbourhood'].value_counts()"
      ],
      "execution_count": 109,
      "outputs": [
        {
          "output_type": "execute_result",
          "data": {
            "text/plain": [
              "Sumida Ku        44\n",
              "Katsushika Ku    22\n",
              "Adachi Ku        10\n",
              "Chuo Ku           7\n",
              "Nerima Ku         7\n",
              "Edogawa Ku        6\n",
              "Toshima Ku        5\n",
              "Arakawa Ku        5\n",
              "Hino Shi          4\n",
              "Taito Ku          4\n",
              "Ota Ku            3\n",
              "Chiyoda Ku        2\n",
              "Kokubunji Shi     1\n",
              "Shibuya Ku        1\n",
              "Name: neighbourhood, dtype: int64"
            ]
          },
          "metadata": {
            "tags": []
          },
          "execution_count": 109
        }
      ]
    },
    {
      "cell_type": "code",
      "metadata": {
        "colab": {
          "base_uri": "https://localhost:8080/",
          "height": 457
        },
        "id": "JaxXcGcY8bDq",
        "outputId": "a02158aa-fae8-4bb3-b3d5-b9f855b58c24"
      },
      "source": [
        "# ver quantidade de imóveis no Kokubunji Shi\n",
        "print(df_clean[df_clean.neighbourhood == \"Kokubunji Shi\"].shape)\n",
        "\n",
        "# ver as 3 entradas do Complexo do Alemão\n",
        "df_clean[df_clean.neighbourhood == \"Kokubunji Shi\"]"
      ],
      "execution_count": 110,
      "outputs": [
        {
          "output_type": "stream",
          "text": [
            "(1, 15)\n"
          ],
          "name": "stdout"
        },
        {
          "output_type": "execute_result",
          "data": {
            "text/html": [
              "<div>\n",
              "<style scoped>\n",
              "    .dataframe tbody tr th:only-of-type {\n",
              "        vertical-align: middle;\n",
              "    }\n",
              "\n",
              "    .dataframe tbody tr th {\n",
              "        vertical-align: top;\n",
              "    }\n",
              "\n",
              "    .dataframe thead th {\n",
              "        text-align: right;\n",
              "    }\n",
              "</style>\n",
              "<table border=\"1\" class=\"dataframe\">\n",
              "  <thead>\n",
              "    <tr style=\"text-align: right;\">\n",
              "      <th></th>\n",
              "      <th>id</th>\n",
              "      <th>name</th>\n",
              "      <th>host_id</th>\n",
              "      <th>host_name</th>\n",
              "      <th>neighbourhood</th>\n",
              "      <th>latitude</th>\n",
              "      <th>longitude</th>\n",
              "      <th>room_type</th>\n",
              "      <th>price</th>\n",
              "      <th>minimum_nights</th>\n",
              "      <th>number_of_reviews</th>\n",
              "      <th>last_review</th>\n",
              "      <th>reviews_per_month</th>\n",
              "      <th>calculated_host_listings_count</th>\n",
              "      <th>availability_365</th>\n",
              "    </tr>\n",
              "  </thead>\n",
              "  <tbody>\n",
              "    <tr>\n",
              "      <th>11161</th>\n",
              "      <td>48611867</td>\n",
              "      <td>Tiny room 6（予約前に必ず部屋のサイズを確認）東京郊外　中央線で新宿から30分の国立駅</td>\n",
              "      <td>163276166</td>\n",
              "      <td>KeitA</td>\n",
              "      <td>Kokubunji Shi</td>\n",
              "      <td>35.70185</td>\n",
              "      <td>139.43363</td>\n",
              "      <td>Private room</td>\n",
              "      <td>1500</td>\n",
              "      <td>1</td>\n",
              "      <td>0</td>\n",
              "      <td>NaN</td>\n",
              "      <td>NaN</td>\n",
              "      <td>7</td>\n",
              "      <td>89</td>\n",
              "    </tr>\n",
              "  </tbody>\n",
              "</table>\n",
              "</div>"
            ],
            "text/plain": [
              "             id  ... availability_365\n",
              "11161  48611867  ...               89\n",
              "\n",
              "[1 rows x 15 columns]"
            ]
          },
          "metadata": {
            "tags": []
          },
          "execution_count": 110
        }
      ]
    },
    {
      "cell_type": "markdown",
      "metadata": {
        "id": "R46Umy06_Tr7"
      },
      "source": [
        "#### Conseguimos avaliar com clareza que apesar da média de valores em Kokubunji Shi ser a maior, a quantidade de imoveis disponiveis é muito menor que as demais localidades. O que nos levar a considerar que existem regiões que tem uma maior quantidade de imoveis com uma média rasoavelmente alta, como é o caso de `Sumida Ku` , que possui `44` imoveis com uma media de `1259.613636`"
      ]
    },
    {
      "cell_type": "code",
      "metadata": {
        "id": "UxVJqJ_3W59I",
        "colab": {
          "base_uri": "https://localhost:8080/",
          "height": 472
        },
        "outputId": "649d3f77-6b8f-4230-bddc-eea59836cbe1"
      },
      "source": [
        "# plotar os imóveis pela latitude-longitude\n",
        "df_clean.plot(kind=\"scatter\", x='longitude', y='latitude', alpha=0.4, c=df_clean['price'], s=8,\n",
        "              cmap=plt.get_cmap('jet'), figsize=(12,8));\n"
      ],
      "execution_count": 111,
      "outputs": [
        {
          "output_type": "display_data",
          "data": {
            "image/png": "[encoded data removed]",
            "text/plain": [
              "<Figure size 864x576 with 2 Axes>"
            ]
          },
          "metadata": {
            "tags": [],
            "needs_background": "light"
          }
        }
      ]
    },
    {
      "cell_type": "markdown",
      "metadata": {
        "id": "vTneAMRUYvr1"
      },
      "source": [
        "### **Q7. Qual é a média do mínimo de noites para aluguel (minimum_nights)?**"
      ]
    },
    {
      "cell_type": "code",
      "metadata": {
        "id": "_VzNhrEgY82N",
        "colab": {
          "base_uri": "https://localhost:8080/"
        },
        "outputId": "359729d5-aa2c-411c-d770-d9d3542638d0"
      },
      "source": [
        "# ver a média da coluna `minimum_nights``\n",
        "df_clean['minimum_nights'].mean()"
      ],
      "execution_count": 113,
      "outputs": [
        {
          "output_type": "execute_result",
          "data": {
            "text/plain": [
              "9.03305785123967"
            ]
          },
          "metadata": {
            "tags": []
          },
          "execution_count": 113
        }
      ]
    },
    {
      "cell_type": "markdown",
      "metadata": {
        "id": "GkvAg623RjoR"
      },
      "source": [
        "## Conclusões\n"
      ]
    },
    {
      "cell_type": "markdown",
      "metadata": {
        "id": "rbZ3Hsy9Ypw8"
      },
      "source": [
        "Foi feita apenas uma análise superficial na base de dados do Airbnb, porém já se percebeu que existem *outliers* em algumas das variáveis. \n",
        "\n",
        "Também se notou que em algumas localidades há poucos imóveis disponíveis, o que pode distorcer as informações estatísticas de alguns atributos.\n",
        "\n",
        "Por fim, lembra-se que este *dataset* é uma versão resumida, ideal apenas para uma abordagem inicial. Recomenda-se que seja usado, em uma próxima análise exploratória, o conjunto de dados completos, com 106 atributos disponíveis."
      ]
    },
    {
      "cell_type": "code",
      "metadata": {
        "id": "S2L77UiO_4gN"
      },
      "source": [
        ""
      ],
      "execution_count": null,
      "outputs": []
    }
  ]
}